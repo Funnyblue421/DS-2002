{
 "cells": [
  {
   "cell_type": "markdown",
   "metadata": {
    "application/vnd.databricks.v1+cell": {
     "cellMetadata": {},
     "inputWidgets": {},
     "nuid": "55c951f3-b23f-425d-b21a-1271f3ee7378",
     "showTitle": false,
     "title": ""
    }
   },
   "source": [
    "## Final Project\n",
    "### Section 1: Prerequisites\n",
    "#### 1.0: Import Required Libraries"
   ]
  },
  {
   "cell_type": "code",
   "execution_count": 0,
   "metadata": {
    "application/vnd.databricks.v1+cell": {
     "cellMetadata": {},
     "inputWidgets": {},
     "nuid": "d7adb37c-1e15-40c1-9831-51f431cd4839",
     "showTitle": false,
     "title": ""
    }
   },
   "outputs": [],
   "source": [
    "import os\n",
    "import json\n",
    "import pymongo\n",
    "import pyspark.pandas as pd\n",
    "from pyspark.sql.functions import col\n",
    "from pyspark.sql.types import StructType, StructField, StringType, TimestampType, BinaryType\n",
    "from pyspark.sql.types import ByteType, ShortType, IntegerType, LongType, FloatType, DecimalType"
   ]
  },
  {
   "cell_type": "markdown",
   "metadata": {
    "application/vnd.databricks.v1+cell": {
     "cellMetadata": {},
     "inputWidgets": {},
     "nuid": "51c999d6-c263-4bc0-b34f-7db15507c225",
     "showTitle": false,
     "title": ""
    }
   },
   "source": [
    "#### 2.0: Instantiate Global Variables"
   ]
  },
  {
   "cell_type": "code",
   "execution_count": 0,
   "metadata": {
    "application/vnd.databricks.v1+cell": {
     "cellMetadata": {},
     "inputWidgets": {},
     "nuid": "a29b4274-b096-4d4e-bae5-25840db2db0c",
     "showTitle": false,
     "title": ""
    }
   },
   "outputs": [],
   "source": [
    "# Azure MySQL Server Connection Information ###################\n",
    "jdbc_hostname = \"ds2002-mysql-bsy6pq.mysql.database.azure.com\"\n",
    "jdbc_port = 3306\n",
    "src_database = \"sakila_dw\"\n",
    "\n",
    "connection_properties = {\n",
    "  \"user\" : \"bsy6pq\",\n",
    "  \"password\" : \"Passw0rd123\",\n",
    "  \"driver\" : \"org.mariadb.jdbc.Driver\"\n",
    "}\n",
    "\n",
    "# MongoDB Atlas Connection Information ########################\n",
    "atlas_cluster_name = \"ds2002.ixnz0au\"\n",
    "atlas_database_name = \"sakila_dw\"\n",
    "atlas_user_name = \"bsy6pq\"\n",
    "atlas_password = \"Passw0rd123\"\n",
    "\n",
    "# Data Files Information ###############################\n",
    "dst_database = \"sakila_dlh\"\n",
    "\n",
    "base_dir = \"dbfs:/FileStore/ds2002-final-project\"\n",
    "database_dir = f\"{base_dir}/{dst_database}\"\n",
    "json_dir = f\"{base_dir}/json\"\n",
    "csv_dir = f\"{base_dir}/csv\"\n",
    "stream_dir = f\"{base_dir}/stream\"\n",
    "\n",
    "orders_output_bronze = f\"{database_dir}/fact_orders/bronze\"\n",
    "orders_output_silver = f\"{database_dir}/fact_orders/silver\"\n",
    "orders_output_gold   = f\"{database_dir}/fact_orders/gold\""
   ]
  },
  {
   "cell_type": "markdown",
   "metadata": {
    "application/vnd.databricks.v1+cell": {
     "cellMetadata": {},
     "inputWidgets": {},
     "nuid": "ae43d2d2-13ae-4b38-8b8a-b89240a5d8c6",
     "showTitle": false,
     "title": ""
    }
   },
   "source": [
    "#### 3.0: Define Global Functions"
   ]
  },
  {
   "cell_type": "code",
   "execution_count": 0,
   "metadata": {
    "application/vnd.databricks.v1+cell": {
     "cellMetadata": {},
     "inputWidgets": {},
     "nuid": "e06fa761-613d-4235-ae05-74ed8f1b0088",
     "showTitle": false,
     "title": ""
    }
   },
   "outputs": [],
   "source": [
    "# ######################################################################################################################\n",
    "# Use this Function to Fetch a DataFrame from the MongoDB Atlas database server Using PyMongo.\n",
    "# ######################################################################################################################\n",
    "def get_mongo_dataframe(user_id, pwd, cluster_name, db_name, collection, conditions, projection, sort):\n",
    "    '''Create a client connection to MongoDB'''\n",
    "    mongo_uri = f\"mongodb+srv://{user_id}:{pwd}@{cluster_name}.mongodb.net/{db_name}\"\n",
    "    \n",
    "    client = pymongo.MongoClient(mongo_uri)\n",
    "\n",
    "    '''Query MongoDB, and fill a python list with documents to create a DataFrame'''\n",
    "    db = client[db_name]\n",
    "    if conditions and projection and sort:\n",
    "        dframe = pd.DataFrame(list(db[collection].find(conditions, projection).sort(sort)))\n",
    "    elif conditions and projection and not sort:\n",
    "        dframe = pd.DataFrame(list(db[collection].find(conditions, projection)))\n",
    "    else:\n",
    "        dframe = pd.DataFrame(list(db[collection].find()))\n",
    "\n",
    "    client.close()\n",
    "    \n",
    "    return dframe\n",
    "\n",
    "# ######################################################################################################################\n",
    "# Use this Function to Create New Collections by Uploading JSON file(s) to the MongoDB Atlas server.\n",
    "# ######################################################################################################################\n",
    "def set_mongo_collection(user_id, pwd, cluster_name, db_name, src_file_path, json_files):\n",
    "    '''Create a client connection to MongoDB'''\n",
    "    mongo_uri = f\"mongodb+srv://{user_id}:{pwd}@{cluster_name}.mongodb.net/{db_name}\"\n",
    "    client = pymongo.MongoClient(mongo_uri)\n",
    "    db = client[db_name]\n",
    "    \n",
    "    '''Read in a JSON file, and Use It to Create a New Collection'''\n",
    "    for file in json_files:\n",
    "        db.drop_collection(file)\n",
    "        json_file = os.path.join(src_file_path, json_files[file])\n",
    "        with open(json_file, 'r') as openfile:\n",
    "            json_object = json.load(openfile)\n",
    "            file = db[file]\n",
    "            result = file.insert_many(json_object)\n",
    "\n",
    "    client.close()\n",
    "    \n",
    "    return result"
   ]
  },
  {
   "cell_type": "markdown",
   "metadata": {
    "application/vnd.databricks.v1+cell": {
     "cellMetadata": {},
     "inputWidgets": {},
     "nuid": "474cdaab-1750-4d64-9046-69cae6a2863a",
     "showTitle": false,
     "title": ""
    }
   },
   "source": [
    "### Section II: Populate Dimensions by Ingesting Reference (Cold-path) Data \n",
    "#### 1.0. Fetch Reference Data From an Azure MySQL Database\n",
    "##### 1.1. Create a New Databricks Metadata Database."
   ]
  },
  {
   "cell_type": "code",
   "execution_count": 0,
   "metadata": {
    "application/vnd.databricks.v1+cell": {
     "cellMetadata": {},
     "inputWidgets": {},
     "nuid": "e684c57f-0f57-4e1e-a92c-047306389a48",
     "showTitle": false,
     "title": ""
    }
   },
   "outputs": [],
   "source": [
    "%sql\n",
    "DROP DATABASE IF EXISTS sakila_dlh CASCADE;"
   ]
  },
  {
   "cell_type": "code",
   "execution_count": 0,
   "metadata": {
    "application/vnd.databricks.v1+cell": {
     "cellMetadata": {},
     "inputWidgets": {},
     "nuid": "77995eb4-61c7-4072-9b86-d17672d04736",
     "showTitle": false,
     "title": ""
    }
   },
   "outputs": [],
   "source": [
    "%sql\n",
    "CREATE DATABASE IF NOT EXISTS sakila_dlh\n",
    "COMMENT \"DS-2002: Final Project Database\"\n",
    "LOCATION \"dbfs:/FileStore/ds2002-final-project/sakila_dlh\"\n",
    "WITH DBPROPERTIES (contains_pii = true, purpose = \"DS-2002: Final Project\")"
   ]
  },
  {
   "cell_type": "markdown",
   "metadata": {
    "application/vnd.databricks.v1+cell": {
     "cellMetadata": {},
     "inputWidgets": {},
     "nuid": "93511a4d-4465-4f11-9327-1dd44e5abd63",
     "showTitle": false,
     "title": ""
    }
   },
   "source": [
    "##### 1.2: Create a New Table that Sources Date Dimension Data from an Azure MySQL Database"
   ]
  },
  {
   "cell_type": "code",
   "execution_count": 0,
   "metadata": {
    "application/vnd.databricks.v1+cell": {
     "cellMetadata": {},
     "inputWidgets": {},
     "nuid": "b8482813-fd5e-444a-9606-200d6f366eb5",
     "showTitle": false,
     "title": ""
    }
   },
   "outputs": [],
   "source": [
    "%sql\n",
    "CREATE OR REPLACE TEMPORARY VIEW view_date\n",
    "USING org.apache.spark.sql.jdbc\n",
    "OPTIONS (\n",
    "  url \"jdbc:mysql://ds2002-mysql-bsy6pq.mysql.database.azure.com:3306/sakila_dw\",\n",
    "  dbtable \"dim_date\",\n",
    "  user \"bsy6pq\",\n",
    "  password \"Passw0rd123\"\n",
    ")"
   ]
  },
  {
   "cell_type": "code",
   "execution_count": 0,
   "metadata": {
    "application/vnd.databricks.v1+cell": {
     "cellMetadata": {},
     "inputWidgets": {},
     "nuid": "8d8b0bc1-8f2e-46c0-9d67-6d70678b2808",
     "showTitle": false,
     "title": ""
    }
   },
   "outputs": [],
   "source": [
    "%sql\n",
    "USE DATABASE sakila_dlh;\n",
    "\n",
    "CREATE OR REPLACE TABLE sakila_dlh.dim_date\n",
    "COMMENT \"Date Dimension Table\"\n",
    "LOCATION \"dbfs:/FileStore/ds2002-final-project/sakila_dlh/dim_date\"\n",
    "AS SELECT * FROM view_date"
   ]
  },
  {
   "cell_type": "code",
   "execution_count": 0,
   "metadata": {
    "application/vnd.databricks.v1+cell": {
     "cellMetadata": {},
     "inputWidgets": {},
     "nuid": "e4e29aea-6dbc-4d6b-ad1c-913d4cae9323",
     "showTitle": false,
     "title": ""
    }
   },
   "outputs": [],
   "source": [
    "%sql\n",
    "DESCRIBE EXTENDED sakila_dlh.dim_date;"
   ]
  },
  {
   "cell_type": "code",
   "execution_count": 0,
   "metadata": {
    "application/vnd.databricks.v1+cell": {
     "cellMetadata": {},
     "inputWidgets": {},
     "nuid": "b3f7d268-62be-43c7-9efd-5626a2a22dea",
     "showTitle": false,
     "title": ""
    }
   },
   "outputs": [],
   "source": [
    "%sql\n",
    "SELECT * FROM sakila_dlh.dim_date LIMIT 5"
   ]
  },
  {
   "cell_type": "markdown",
   "metadata": {
    "application/vnd.databricks.v1+cell": {
     "cellMetadata": {},
     "inputWidgets": {},
     "nuid": "07f81dd4-4f13-4702-91fc-8eb79af8e298",
     "showTitle": false,
     "title": ""
    }
   },
   "source": [
    "##### 1.3: Create a New Table that Sources Rental Dimension Data from an Azure MySQL Database"
   ]
  },
  {
   "cell_type": "code",
   "execution_count": 0,
   "metadata": {
    "application/vnd.databricks.v1+cell": {
     "cellMetadata": {},
     "inputWidgets": {},
     "nuid": "64f7234d-b131-4b69-8458-4a476d97617d",
     "showTitle": false,
     "title": ""
    }
   },
   "outputs": [],
   "source": [
    "%sql\n",
    "CREATE OR REPLACE TEMPORARY VIEW view_rental\n",
    "USING org.apache.spark.sql.jdbc\n",
    "OPTIONS (\n",
    "  url \"jdbc:mysql://ds2002-mysql-bsy6pq.mysql.database.azure.com:3306/sakila_dw\",\n",
    "  dbtable \"dim_rentals\",\n",
    "  user \"bsy6pq\",\n",
    "  password \"Passw0rd123\"\n",
    ")"
   ]
  },
  {
   "cell_type": "code",
   "execution_count": 0,
   "metadata": {
    "application/vnd.databricks.v1+cell": {
     "cellMetadata": {},
     "inputWidgets": {},
     "nuid": "9b6a6a21-8b5d-4624-8d58-036f0a6740ea",
     "showTitle": false,
     "title": ""
    }
   },
   "outputs": [],
   "source": [
    "%sql\n",
    "USE DATABASE sakila_dlh;\n",
    "\n",
    "CREATE OR REPLACE TABLE sakila_dlh.dim_rental\n",
    "COMMENT \"Rental Dimension Table\"\n",
    "LOCATION \"dbfs:/FileStore/ds2002-final-project/sakila_dlh/dim_rental\"\n",
    "AS SELECT * FROM view_rental"
   ]
  },
  {
   "cell_type": "code",
   "execution_count": 0,
   "metadata": {
    "application/vnd.databricks.v1+cell": {
     "cellMetadata": {},
     "inputWidgets": {},
     "nuid": "03be58a0-3db7-435d-b1c9-58a792ad574c",
     "showTitle": false,
     "title": ""
    }
   },
   "outputs": [],
   "source": [
    "%sql\n",
    "DESCRIBE EXTENDED sakila_dlh.dim_rental"
   ]
  },
  {
   "cell_type": "code",
   "execution_count": 0,
   "metadata": {
    "application/vnd.databricks.v1+cell": {
     "cellMetadata": {},
     "inputWidgets": {},
     "nuid": "b78f8e78-0cbb-472d-85c9-9be8e63ea5bd",
     "showTitle": false,
     "title": ""
    }
   },
   "outputs": [],
   "source": [
    "%sql\n",
    "SELECT * FROM sakila_dlh.dim_rental LIMIT 5"
   ]
  },
  {
   "cell_type": "markdown",
   "metadata": {
    "application/vnd.databricks.v1+cell": {
     "cellMetadata": {},
     "inputWidgets": {},
     "nuid": "fb312a90-4666-4996-b328-b6a4f39e7c43",
     "showTitle": false,
     "title": ""
    }
   },
   "source": [
    "#### 2.0: Fetch Reference Data from a MongoDB Atlas Database\n",
    "##### 2.1: View the Data Files on the Databricks File System"
   ]
  },
  {
   "cell_type": "code",
   "execution_count": 0,
   "metadata": {
    "application/vnd.databricks.v1+cell": {
     "cellMetadata": {},
     "inputWidgets": {},
     "nuid": "ef4204bd-c673-459e-a400-88e483334245",
     "showTitle": false,
     "title": ""
    }
   },
   "outputs": [],
   "source": [
    "display(dbutils.fs.ls(json_dir))"
   ]
  },
  {
   "cell_type": "markdown",
   "metadata": {
    "application/vnd.databricks.v1+cell": {
     "cellMetadata": {},
     "inputWidgets": {},
     "nuid": "8ad81cfa-78c2-438a-87d3-49ca3399c4f2",
     "showTitle": false,
     "title": ""
    }
   },
   "source": [
    "##### 2.2: Create a New MongoDB Database, and Load JSON Data Into a New MongoDB Collection"
   ]
  },
  {
   "cell_type": "code",
   "execution_count": 0,
   "metadata": {
    "application/vnd.databricks.v1+cell": {
     "cellMetadata": {},
     "inputWidgets": {},
     "nuid": "67549166-f0c8-41c2-8f28-602e53826883",
     "showTitle": false,
     "title": ""
    }
   },
   "outputs": [],
   "source": [
    "source_dir = '/dbfs/FileStore/ds2002-final-project/json'\n",
    "json_file = {\"payment\" : \"payment_p2007_01.json\"}\n",
    "\n",
    "set_mongo_collection(atlas_user_name, atlas_password, atlas_cluster_name, atlas_database_name, source_dir, json_file)"
   ]
  },
  {
   "cell_type": "markdown",
   "metadata": {
    "application/vnd.databricks.v1+cell": {
     "cellMetadata": {},
     "inputWidgets": {},
     "nuid": "d50a6fcc-907a-499b-ba77-9e3f1c3b1590",
     "showTitle": false,
     "title": ""
    }
   },
   "source": [
    "##### 2.3.1: Fetch Payment Dimension Data from the New MongoDB Collection"
   ]
  },
  {
   "cell_type": "code",
   "execution_count": 0,
   "metadata": {
    "application/vnd.databricks.v1+cell": {
     "cellMetadata": {},
     "inputWidgets": {},
     "nuid": "1ecf8319-90ec-4cd1-8af7-fc12923d1740",
     "showTitle": false,
     "title": ""
    }
   },
   "outputs": [],
   "source": [
    "%scala\n",
    "import com.mongodb.spark._\n",
    "\n",
    "val df_payment = spark.read.format(\"com.mongodb.spark.sql.DefaultSource\")\n",
    ".option(\"database\", \"sakila_dw\").option(\"collection\", \"payment\").load()\n",
    ".select(\"payment_id\", \"customer_id\", \"amount\", \"payment_date\")\n",
    "\n",
    "display(df_actor)"
   ]
  },
  {
   "cell_type": "code",
   "execution_count": 0,
   "metadata": {
    "application/vnd.databricks.v1+cell": {
     "cellMetadata": {},
     "inputWidgets": {},
     "nuid": "6ce1aa3f-002a-4bee-b91c-d75a0d66b5ef",
     "showTitle": false,
     "title": ""
    }
   },
   "outputs": [],
   "source": [
    "%scala\n",
    "df_payment.printSchema()"
   ]
  },
  {
   "cell_type": "markdown",
   "metadata": {
    "application/vnd.databricks.v1+cell": {
     "cellMetadata": {},
     "inputWidgets": {},
     "nuid": "321cf612-3df7-43bc-ae69-c0cc22fe3311",
     "showTitle": false,
     "title": ""
    }
   },
   "source": [
    "##### 2.3.2: Use the Spark DataFrame to Create a New Payment Dimension Table in the Databricks Metadata Database (sakila_dlh)"
   ]
  },
  {
   "cell_type": "code",
   "execution_count": 0,
   "metadata": {
    "application/vnd.databricks.v1+cell": {
     "cellMetadata": {},
     "inputWidgets": {},
     "nuid": "c28a06ee-4a53-41a3-ae3f-ecaafd5e3a54",
     "showTitle": false,
     "title": ""
    }
   },
   "outputs": [],
   "source": [
    "%scala\n",
    "df_payment.write.format(\"delta\").mode(\"overwrite\").saveAsTable(\"sakila_dlh.dim_payment\")"
   ]
  },
  {
   "cell_type": "code",
   "execution_count": 0,
   "metadata": {
    "application/vnd.databricks.v1+cell": {
     "cellMetadata": {},
     "inputWidgets": {},
     "nuid": "b8a27df0-4313-4ac6-8c2d-b2b03a93b0df",
     "showTitle": false,
     "title": ""
    }
   },
   "outputs": [],
   "source": [
    "%sql\n",
    "DESCRIBE EXTENDED sakila_dlh.dim_payment"
   ]
  },
  {
   "cell_type": "code",
   "execution_count": 0,
   "metadata": {
    "application/vnd.databricks.v1+cell": {
     "cellMetadata": {},
     "inputWidgets": {},
     "nuid": "fcc345bc-3133-49dd-aa8d-2cb907a8e930",
     "showTitle": false,
     "title": ""
    }
   },
   "outputs": [],
   "source": [
    "%sql\n",
    "SELECT * FROM sakila_dlh.dim_payment LIMIT 5"
   ]
  },
  {
   "cell_type": "markdown",
   "metadata": {
    "application/vnd.databricks.v1+cell": {
     "cellMetadata": {},
     "inputWidgets": {},
     "nuid": "1b3a2127-3393-4511-951e-9fdc1572dba1",
     "showTitle": false,
     "title": ""
    }
   },
   "source": [
    "#### 3.0: Fetch Data from a File System\n",
    "##### 3.1: Use PySpark to Read City Dimension Data From CSV File"
   ]
  },
  {
   "cell_type": "code",
   "execution_count": 0,
   "metadata": {
    "application/vnd.databricks.v1+cell": {
     "cellMetadata": {},
     "inputWidgets": {},
     "nuid": "a4f1a3e3-0384-4463-815c-be206edb25cc",
     "showTitle": false,
     "title": ""
    }
   },
   "outputs": [],
   "source": [
    "city_csv = f\"{csv_dir}/city.csv\"\n",
    "\n",
    "df_city = spark.read.format('csv').options(header='true', inferSchema='true').load(city_csv)\n",
    "display(df_city)"
   ]
  },
  {
   "cell_type": "code",
   "execution_count": 0,
   "metadata": {
    "application/vnd.databricks.v1+cell": {
     "cellMetadata": {},
     "inputWidgets": {},
     "nuid": "f556646f-adf4-40d9-a3ed-fcb32bf66285",
     "showTitle": false,
     "title": ""
    }
   },
   "outputs": [],
   "source": [
    "df_city.printSchema()"
   ]
  },
  {
   "cell_type": "code",
   "execution_count": 0,
   "metadata": {
    "application/vnd.databricks.v1+cell": {
     "cellMetadata": {},
     "inputWidgets": {},
     "nuid": "3ce4c7fd-79c3-46c1-bd82-1da3de54a740",
     "showTitle": false,
     "title": ""
    }
   },
   "outputs": [],
   "source": [
    "df_city.write.format(\"delta\").mode(\"overwrite\").saveAsTable(\"sakila_dlh.dim_city\")"
   ]
  },
  {
   "cell_type": "code",
   "execution_count": 0,
   "metadata": {
    "application/vnd.databricks.v1+cell": {
     "cellMetadata": {},
     "inputWidgets": {},
     "nuid": "3d626b18-03c2-48cf-bf5d-e96ab0e0cfce",
     "showTitle": false,
     "title": ""
    }
   },
   "outputs": [],
   "source": [
    "%sql\n",
    "DESCRIBE EXTENDED sakila_dlh.dim_city;"
   ]
  },
  {
   "cell_type": "markdown",
   "metadata": {
    "application/vnd.databricks.v1+cell": {
     "cellMetadata": {},
     "inputWidgets": {},
     "nuid": "03af5ed9-d437-4323-9ee1-280ce17117eb",
     "showTitle": false,
     "title": ""
    }
   },
   "source": [
    "##### 3.4: Verify Dimension Tables"
   ]
  },
  {
   "cell_type": "code",
   "execution_count": 0,
   "metadata": {
    "application/vnd.databricks.v1+cell": {
     "cellMetadata": {},
     "inputWidgets": {},
     "nuid": "46d5151f-68df-4606-b3de-1ce103ae20b9",
     "showTitle": false,
     "title": ""
    }
   },
   "outputs": [],
   "source": [
    "%sql\n",
    "USE sakila_dlh;\n",
    "SHOW TABLES"
   ]
  },
  {
   "cell_type": "markdown",
   "metadata": {
    "application/vnd.databricks.v1+cell": {
     "cellMetadata": {},
     "inputWidgets": {},
     "nuid": "0d7e6ea2-b640-4073-a1b8-31e96b7df766",
     "showTitle": false,
     "title": ""
    }
   },
   "source": [
    "#### 4.0: Use AutoLoader to Process Orders Fact Data\n",
    "##### 4.1: Bronze Table - Process 'Raw' JSON Data"
   ]
  },
  {
   "cell_type": "code",
   "execution_count": 0,
   "metadata": {
    "application/vnd.databricks.v1+cell": {
     "cellMetadata": {},
     "inputWidgets": {},
     "nuid": "c24dbcea-f043-4b4b-935a-8afc507dc4c1",
     "showTitle": false,
     "title": ""
    }
   },
   "outputs": [],
   "source": [
    "(spark.readStream\n",
    " .format(\"cloudFiles\")\n",
    " .option(\"cloudFiles.format\", \"json\")\n",
    " .option(\"cloudFiles.schemaHints\", \"fact_order_key\")\n",
    " .option(\"cloudFiles.schemaHints\", \"customer\")\n",
    " .option(\"cloudFiles.schemaHints\", \"store\")\n",
    " .option(\"cloudFiles.schemaHints\", \"address\")\n",
    " .option(\"cloudFiles.schemaHints\", \"city\")\n",
    " .option(\"cloudFiles.schemaHints\", \"customer_last_name\")\n",
    " .option(\"cloudFiles.schemaHints\", \"customer_first_name\")\n",
    " .option(\"cloudFiles.schemaHints\", \"customer_email\")\n",
    " .option(\"cloudFiles.schemaHints\", \"district\")\n",
    " .option(\"cloudFiles.schemaHints\", \"postal_code\")\n",
    " .option(\"cloudFiles.schemaHints\", \"phone_number\")\n",
    " .option(\"cloudFiles.schemaLocation\", orders_output_bronze)\n",
    " .option(\"cloudFiles.inferColumnTypes\", \"true\")\n",
    " .option(\"multiLine\", \"true\")\n",
    " .load(stream_dir)\n",
    " .createOrReplaceTempView(\"orders_raw_tempview\")\n",
    " )"
   ]
  },
  {
   "cell_type": "code",
   "execution_count": 0,
   "metadata": {
    "application/vnd.databricks.v1+cell": {
     "cellMetadata": {},
     "inputWidgets": {},
     "nuid": "fea5b8b0-e5d6-4411-85c6-fc8b0d2d23c7",
     "showTitle": false,
     "title": ""
    }
   },
   "outputs": [],
   "source": [
    "%sql\n",
    "CREATE OR REPLACE TEMPORARY VIEW orders_bronze_tempview AS (\n",
    "  SELECT *, current_timestamp() receipt_time, input_file_name() source_file\n",
    "  FROM orders_raw_tempview\n",
    ")"
   ]
  },
  {
   "cell_type": "code",
   "execution_count": 0,
   "metadata": {
    "application/vnd.databricks.v1+cell": {
     "cellMetadata": {},
     "inputWidgets": {},
     "nuid": "6989be7a-6ae1-4aa4-84cb-f91a1c8810a7",
     "showTitle": false,
     "title": ""
    }
   },
   "outputs": [],
   "source": [
    "%sql\n",
    "SELECT * FROM orders_bronze_tempview"
   ]
  },
  {
   "cell_type": "code",
   "execution_count": 0,
   "metadata": {
    "application/vnd.databricks.v1+cell": {
     "cellMetadata": {},
     "inputWidgets": {},
     "nuid": "c077f0d4-a0b6-4b67-933d-c8d2f042d1b3",
     "showTitle": false,
     "title": ""
    }
   },
   "outputs": [],
   "source": [
    "(spark.table(\"orders_bronze_tempview\")\n",
    "      .writeStream\n",
    "      .format(\"delta\")\n",
    "      .option(\"checkpointLocation\", f\"{orders_output_bronze}/_checkpoint\")\n",
    "      .outputMode(\"append\")\n",
    "      .table(\"fact_orders_bronze\"))"
   ]
  },
  {
   "cell_type": "markdown",
   "metadata": {
    "application/vnd.databricks.v1+cell": {
     "cellMetadata": {},
     "inputWidgets": {},
     "nuid": "70d8e08d-282f-49a8-b57a-001861f1343b",
     "showTitle": false,
     "title": ""
    }
   },
   "source": [
    "##### 4.2: Silver Table: Include Reference Data"
   ]
  },
  {
   "cell_type": "code",
   "execution_count": 0,
   "metadata": {
    "application/vnd.databricks.v1+cell": {
     "cellMetadata": {},
     "inputWidgets": {},
     "nuid": "cdfb5d5d-a227-42d1-b1b6-b818d325b179",
     "showTitle": false,
     "title": ""
    }
   },
   "outputs": [],
   "source": [
    "(spark.readStream\n",
    "  .table(\"fact_orders_bronze\")\n",
    "  .createOrReplaceTempView(\"orders_silver_tempview\"))"
   ]
  },
  {
   "cell_type": "code",
   "execution_count": 0,
   "metadata": {
    "application/vnd.databricks.v1+cell": {
     "cellMetadata": {},
     "inputWidgets": {},
     "nuid": "ff8b12a2-2099-4654-9194-8abef116bfdc",
     "showTitle": false,
     "title": ""
    }
   },
   "outputs": [],
   "source": [
    "%sql\n",
    "SELECT * FROM orders_silver_tempview"
   ]
  },
  {
   "cell_type": "code",
   "execution_count": 0,
   "metadata": {
    "application/vnd.databricks.v1+cell": {
     "cellMetadata": {},
     "inputWidgets": {},
     "nuid": "3a095457-14d6-49aa-9d48-eddbb1f99a63",
     "showTitle": false,
     "title": ""
    }
   },
   "outputs": [],
   "source": [
    "%sql\n",
    "DESCRIBE EXTENDED orders_silver_tempview"
   ]
  },
  {
   "cell_type": "code",
   "execution_count": 0,
   "metadata": {
    "application/vnd.databricks.v1+cell": {
     "cellMetadata": {},
     "inputWidgets": {},
     "nuid": "f7258118-2351-4be0-aac0-5a2fdbc8abe1",
     "showTitle": false,
     "title": ""
    }
   },
   "outputs": [],
   "source": [
    "%sql\n",
    "CREATE OR REPLACE TEMPORARY VIEW fact_orders_silver_tempview AS (\n",
    "  SELECT o.fact_order_key,\n",
    "  , o.customer\n",
    "  , o.store\n",
    "  , o.address\n",
    "  , o.city\n",
    "  , o.customer_last_name\n",
    "  , o.customer_first_name\n",
    "  , o.customer_email\n",
    "  , o.district\n",
    "  , o.postal_code\n",
    "  , o.phone_number\n",
    "  , r.rental_key\n",
    "  , r.inventory\n",
    "  , r.rental_date\n",
    "  , r.return_date\n",
    "  , p.payment_id\n",
    "  , p.amount\n",
    "  , p.payment_date\n",
    "  , c.city_id\n",
    "  , c.city\n",
    "  FROM orders_silver_tempview AS o\n",
    "  INNER JOIN sakila_dlh.dim_rental AS r\n",
    "  ON r.customer = o.customer\n",
    "  INNER JOIN sakila_dlh.dim_payment AS p\n",
    "  ON p.customer_id = o.customer\n",
    "  INNER JOIN sakila_dlh.dim_city AS c\n",
    "  ON c.address_id = o.address\n",
    ")"
   ]
  },
  {
   "cell_type": "code",
   "execution_count": 0,
   "metadata": {
    "application/vnd.databricks.v1+cell": {
     "cellMetadata": {},
     "inputWidgets": {},
     "nuid": "507f8d25-c0e2-4f82-a058-44c27178cdec",
     "showTitle": false,
     "title": ""
    }
   },
   "outputs": [],
   "source": [
    "(spark.table(\"fact_orders_silver_tempview\")\n",
    "      .writeStream\n",
    "      .format(\"delta\")\n",
    "      .option(\"checkpointLocation\")\n",
    "      .outputMode(\"append\")\n",
    "      .table(\"fact_orders_silver\"))"
   ]
  },
  {
   "cell_type": "code",
   "execution_count": 0,
   "metadata": {
    "application/vnd.databricks.v1+cell": {
     "cellMetadata": {},
     "inputWidgets": {},
     "nuid": "e26b536f-14e6-4695-b8c2-61672a763f93",
     "showTitle": false,
     "title": ""
    }
   },
   "outputs": [],
   "source": [
    "%sql\n",
    "SELECT * FROM fact_orders_silver"
   ]
  },
  {
   "cell_type": "code",
   "execution_count": 0,
   "metadata": {
    "application/vnd.databricks.v1+cell": {
     "cellMetadata": {},
     "inputWidgets": {},
     "nuid": "3ce0b61d-7d29-4fb8-bd66-a270ded973e8",
     "showTitle": false,
     "title": ""
    }
   },
   "outputs": [],
   "source": [
    "%sql\n",
    "DESCRIBE EXTENDED fact_orders_silver"
   ]
  },
  {
   "cell_type": "markdown",
   "metadata": {
    "application/vnd.databricks.v1+cell": {
     "cellMetadata": {},
     "inputWidgets": {},
     "nuid": "60532f03-8696-4fe5-891e-a5cde0b78bfd",
     "showTitle": false,
     "title": ""
    }
   },
   "source": [
    "##### 8.3: Gold Table: Perform Aggregations"
   ]
  },
  {
   "cell_type": "code",
   "execution_count": 0,
   "metadata": {
    "application/vnd.databricks.v1+cell": {
     "cellMetadata": {},
     "inputWidgets": {},
     "nuid": "b22e4a63-e551-4405-889d-92e32c4aac15",
     "showTitle": false,
     "title": ""
    }
   },
   "outputs": [],
   "source": [
    "%sql\n",
    "SELECT customer\n",
    "    , customer_last_name\n",
    "    , customer_first_name\n",
    "    , customer_email\n",
    "    , SUM(amount) AS total_amount\n",
    "    , address\n",
    "    , city\n",
    "    , district\n",
    "    , postal_code\n",
    "    , payment_date\n",
    "FROM sakila_dlh.fact_inventory_silver\n",
    "GROUP BY district\n",
    "ORDER BY total_amount DESC"
   ]
  }
 ],
 "metadata": {
  "application/vnd.databricks.v1+notebook": {
   "dashboards": [],
   "language": "python",
   "notebookMetadata": {
    "pythonIndentUnit": 4
   },
   "notebookName": "Final Project",
   "notebookOrigID": 2681464712421675,
   "widgets": {}
  }
 },
 "nbformat": 4,
 "nbformat_minor": 0
}
